{
 "cells": [
  {
   "attachments": {},
   "cell_type": "markdown",
   "metadata": {},
   "source": [
    "Imports and setup"
   ]
  },
  {
   "cell_type": "code",
   "execution_count": 2,
   "metadata": {},
   "outputs": [],
   "source": [
    "import numpy as np\n",
    "import matplotlib.pyplot as plt\n",
    "import pandas as pd\n"
   ]
  },
  {
   "cell_type": "code",
   "execution_count": 3,
   "metadata": {},
   "outputs": [
    {
     "name": "stdout",
     "output_type": "stream",
     "text": [
      "a    100\n",
      "b    200\n",
      "c    300\n",
      "d    400\n",
      "e    800\n",
      "dtype: int64\n"
     ]
    }
   ],
   "source": [
    "task1_dict = {'a': 100, 'b': 200, 'c': 300, 'd': 400, 'e': 800}\n",
    "df = pd.Series(task1_dict)\n",
    "print(df)\n"
   ]
  },
  {
   "cell_type": "code",
   "execution_count": 4,
   "metadata": {},
   "outputs": [
    {
     "name": "stdout",
     "output_type": "stream",
     "text": [
      "0    10\n",
      "1    20\n",
      "2    30\n",
      "3    40\n",
      "4    50\n",
      "dtype: int64\n"
     ]
    }
   ],
   "source": [
    "task2_arr = [10, 20, 30, 40, 50]\n",
    "df = pd.Series(task2_arr)\n",
    "print(df)\n"
   ]
  },
  {
   "cell_type": "code",
   "execution_count": 5,
   "metadata": {},
   "outputs": [
    {
     "name": "stdout",
     "output_type": "stream",
     "text": [
      "0       100\n",
      "1       200\n",
      "2    python\n",
      "3    300.12\n",
      "4       400\n",
      "6       500\n",
      "7       php\n",
      "dtype: object\n"
     ]
    }
   ],
   "source": [
    "task3_series = pd.Series([100, 200, 'python', 300.12, 400])\n",
    "df = task3_series\n",
    "df[len(df) + 1] = 500\n",
    "df[len(df) + 1] = 'php'\n",
    "print(task3_series)\n"
   ]
  },
  {
   "cell_type": "code",
   "execution_count": 16,
   "metadata": {},
   "outputs": [
    {
     "name": "stdout",
     "output_type": "stream",
     "text": [
      "4.1\n",
      "  animal  age\n",
      "a    cat  2.5\n",
      "b    cat  3.0\n",
      "c  snake  0.5\n",
      "d    dog  NaN\n",
      "e    dog  5.0\n",
      "f    cat  2.0\n",
      "g  snake  4.5\n",
      "h    cat  NaN\n",
      "i    dog  7.0\n",
      "j    dog  3.0\n",
      "\n",
      "4.2\n",
      "  animal  age\n",
      "d    dog  NaN\n",
      "e    dog  5.0\n",
      "i    dog  7.0\n",
      "\n",
      "4.3\n",
      "Empty DataFrame\n",
      "Columns: [animal, age, visits, priority]\n",
      "Index: []\n",
      "\n",
      "4.4\n",
      "  animal  age  visits priority\n",
      "a    cat  2.5       1      yes\n",
      "f    cat  2.0       3       no\n",
      "\n",
      "4.5\n",
      "  animal  age  visits priority\n",
      "a    cat  2.5       1      yes\n",
      "b    cat  3.0       3      yes\n",
      "j    dog  3.0       1       no\n",
      "\n",
      "4.6\n",
      "19\n",
      "\n",
      "4.7\n",
      "  animal  age  visits priority  k\n",
      "a    cat  2.5       1      yes  0\n",
      "b    cat  3.0       3      yes  1\n",
      "c  snake  0.5       2       no  2\n",
      "d    dog  NaN       3      yes  3\n",
      "e    dog  5.0       2       no  4\n",
      "f    cat  2.0       3       no  5\n",
      "g  snake  4.5       1       no  6\n",
      "h    cat  NaN       1      yes  7\n",
      "i    dog  7.0       2       no  8\n",
      "j    dog  3.0       1       no  9\n",
      "====== Column Deleted ======\n",
      "  animal  age  visits priority\n",
      "a    cat  2.5       1      yes\n",
      "b    cat  3.0       3      yes\n",
      "c  snake  0.5       2       no\n",
      "d    dog  NaN       3      yes\n",
      "e    dog  5.0       2       no\n",
      "f    cat  2.0       3       no\n",
      "g  snake  4.5       1       no\n",
      "h    cat  NaN       1      yes\n",
      "i    dog  7.0       2       no\n",
      "j    dog  3.0       1       no\n"
     ]
    }
   ],
   "source": [
    "\n",
    "data = {'animal': ['cat', 'cat', 'snake', 'dog', 'dog', 'cat', 'snake', 'cat', 'dog', 'dog'],\n",
    "        'age': [2.5, 3, 0.5, np.nan, 5, 2, 4.5, np.nan, 7, 3],\n",
    "        'visits': [1, 3, 2, 3, 2, 3, 1, 1, 2, 1],\n",
    "        'priority': ['yes', 'yes', 'no', 'yes', 'no', 'no', 'no', 'yes', 'no', 'no']\n",
    "        }\n",
    "labels = ['a', 'b', 'c', 'd', 'e', 'f', 'g', 'h', 'i', 'j']\n",
    "\n",
    "df = pd.DataFrame(data, labels)\n",
    "\n",
    "# 4.1\n",
    "print(\"4.1\")\n",
    "print(df[['animal', 'age']])\n",
    "print()\n",
    "\n",
    "# 4.2\n",
    "print(\"4.2\")\n",
    "print(df.iloc[[3,4,8]][['animal', 'age']])\n",
    "print()\n",
    "\n",
    "# 4.3\n",
    "print(\"4.3\")\n",
    "print(df[df.visits > 3])\n",
    "print()\n",
    "\n",
    "# 4.4\n",
    "print(\"4.4\")\n",
    "print(df[(df.animal == 'cat') & (df.age < 3)])\n",
    "print()\n",
    "\n",
    "# 4.5\n",
    "print(\"4.5\")\n",
    "print(df[(df.age > 2) & (df.age <= 4)])\n",
    "print()\n",
    "\n",
    "# 4.6\n",
    "print(\"4.6\")\n",
    "print(df.visits.sum())\n",
    "print()\n",
    "\n",
    "# 4.7\n",
    "print('4.7')\n",
    "df['k'] = [i for i in range(len(df))]\n",
    "print(df)\n",
    "\n",
    "del df['k']\n",
    "print('====== Column Deleted ======')\n",
    "\n",
    "print(df)"
   ]
  }
 ],
 "metadata": {
  "kernelspec": {
   "display_name": ".venv",
   "language": "python",
   "name": "python3"
  },
  "language_info": {
   "codemirror_mode": {
    "name": "ipython",
    "version": 3
   },
   "file_extension": ".py",
   "mimetype": "text/x-python",
   "name": "python",
   "nbconvert_exporter": "python",
   "pygments_lexer": "ipython3",
   "version": "3.10.11"
  },
  "orig_nbformat": 4,
  "vscode": {
   "interpreter": {
    "hash": "6860dbae5879b25c1e05abdd830fdc3771c2b2c4d00895f50bf1fc0c30e14f3f"
   }
  }
 },
 "nbformat": 4,
 "nbformat_minor": 2
}
