{
 "cells": [
  {
   "attachments": {},
   "cell_type": "markdown",
   "metadata": {},
   "source": [
    "Imports"
   ]
  },
  {
   "cell_type": "code",
   "execution_count": 27,
   "metadata": {},
   "outputs": [],
   "source": [
    "import numpy as np\n"
   ]
  },
  {
   "cell_type": "markdown",
   "metadata": {},
   "source": [
    "Task 1"
   ]
  },
  {
   "cell_type": "code",
   "execution_count": 28,
   "metadata": {},
   "outputs": [
    {
     "name": "stdout",
     "output_type": "stream",
     "text": [
      "first array\t=> array([  0.,  25.,  50.,  75., 100.])\n",
      "second array\t=> array([0.  , 0.25, 0.5 , 0.75, 1.  ])\n",
      "sum\t\t=> [0.0, 25.25, 50.5, 75.75, 101.0]\n",
      "sum(np)\t\t=> array([  0.  ,  25.25,  50.5 ,  75.75, 101.  ])\n"
     ]
    }
   ],
   "source": [
    "array_size = int(input(\"Input array size: \"))\n",
    "\n",
    "first_array = np.linspace(0, 100, num=array_size)\n",
    "# I decided to round numbers to 2 decimal places\n",
    "first_array = np.round(first_array, 2)\n",
    "print(f\"first array\\t=> {repr(first_array)}\")\n",
    "\n",
    "second_array = np.linspace(0, 1, num=array_size)\n",
    "second_array = np.round(second_array, 2)\n",
    "print(f\"second array\\t=> {repr(second_array)}\")\n",
    "\n",
    "print(f\"sum\\t\\t=> {list([first_array[i] + second_array[i] \n",
    "        for i in range(array_size)])}\")\n",
    "print(f\"sum(np)\\t\\t=> {repr(first_array + second_array)}\")\n"
   ]
  },
  {
   "attachments": {},
   "cell_type": "markdown",
   "metadata": {},
   "source": [
    "Task 2"
   ]
  },
  {
   "cell_type": "code",
   "execution_count": 29,
   "metadata": {},
   "outputs": [
    {
     "name": "stdout",
     "output_type": "stream",
     "text": [
      "first matrix\t=>\n",
      "array([[  0.,   0.,   0.,   0.],\n",
      "       [ 25.,  25.,  25.,  25.],\n",
      "       [ 50.,  50.,  50.,  50.],\n",
      "       [ 75.,  75.,  75.,  75.],\n",
      "       [100., 100., 100., 100.],\n",
      "       [  0.,   0.,   0.,   0.]])\n",
      "second matrix =>\n",
      "array([[0.  , 0.25, 0.5 , 0.75, 1.  , 0.  , 0.25],\n",
      "       [0.  , 0.25, 0.5 , 0.75, 1.  , 0.  , 0.25],\n",
      "       [0.  , 0.25, 0.5 , 0.75, 1.  , 0.  , 0.25],\n",
      "       [0.  , 0.25, 0.5 , 0.75, 1.  , 0.  , 0.25]])\n"
     ]
    }
   ],
   "source": [
    "f_matrix_rows = int(input(\"Input number of rows for first matrix: \"))\n",
    "f_matrix_cols = int(input(\"Input number of cols for first matrix: \"))\n",
    "\n",
    "# if the result of multiply of all elements was meant, then \n",
    "# user input might make sense\n",
    "s_matrix_rows = f_matrix_cols\n",
    "s_matrix_cols = int(input(\"Input number of cols for second matrix: \"))\n",
    "\n",
    "# * explanation: I use list comprehension to create array of arrays \n",
    "# at first, I create row with appropriate element from <first_array>\n",
    "# I use (i % len(first_array)) to prevent IndexOutOfRange,\n",
    "# so if <i> is greater than <first_array> size, it will use elements\n",
    "# from start instead\n",
    "# and at last - repeat that operation for number of rows\n",
    "first_matrix = np.array(\n",
    "    [\n",
    "        [first_array[i % len(first_array)]] * f_matrix_cols\n",
    "        for i in range(f_matrix_rows)\n",
    "    ]\n",
    ")\n",
    "print(\"first matrix\\t=>\")\n",
    "print(repr(first_matrix))\n",
    "\n",
    "second_matrix = np.array(\n",
    "    [\n",
    "        [second_array[i % len(second_array)] for i in range(s_matrix_cols)]\n",
    "        for _ in range(s_matrix_rows)\n",
    "    ]\n",
    ")\n",
    "\n",
    "print(\"second matrix =>\")\n",
    "print(repr(second_matrix))\n",
    "\n"
   ]
  },
  {
   "cell_type": "code",
   "execution_count": 30,
   "metadata": {},
   "outputs": [
    {
     "name": "stdout",
     "output_type": "stream",
     "text": [
      "multiplied matrix =>\n",
      "array([[  0.,   0.,   0.,   0.,   0.,   0.,   0.],\n",
      "       [  0.,  25.,  50.,  75., 100.,   0.,  25.],\n",
      "       [  0.,  50., 100., 150., 200.,   0.,  50.],\n",
      "       [  0.,  75., 150., 225., 300.,   0.,  75.],\n",
      "       [  0., 100., 200., 300., 400.,   0., 100.],\n",
      "       [  0.,   0.,   0.,   0.,   0.,   0.,   0.]])\n",
      "multiplied matrix (numpy) =>\n",
      "array([[  0.,   0.,   0.,   0.,   0.,   0.,   0.],\n",
      "       [  0.,  25.,  50.,  75., 100.,   0.,  25.],\n",
      "       [  0.,  50., 100., 150., 200.,   0.,  50.],\n",
      "       [  0.,  75., 150., 225., 300.,   0.,  75.],\n",
      "       [  0., 100., 200., 300., 400.,   0., 100.],\n",
      "       [  0.,   0.,   0.,   0.,   0.,   0.,   0.]])\n"
     ]
    }
   ],
   "source": [
    "\n",
    "\n",
    "# * fixing numpy array output\n",
    "np.set_printoptions(linewidth=160)\n",
    "\n",
    "multiplied_matrix = []\n",
    "for row in first_matrix:\n",
    "    temp_row = []\n",
    "    for column in second_matrix.T:\n",
    "        temp_row.append(sum(map(lambda x, y: x * y, row, column)))\n",
    "    multiplied_matrix.append(temp_row)\n",
    "\n",
    "multiplied_matrix = np.array(multiplied_matrix)\n",
    "print(\"multiplied matrix =>\")\n",
    "print(repr(multiplied_matrix))\n",
    "\n",
    "print(\"multiplied matrix (numpy) =>\")\n",
    "print(repr(np.matmul(first_matrix, second_matrix)))"
   ]
  }
 ],
 "metadata": {
  "kernelspec": {
   "display_name": ".venv",
   "language": "python",
   "name": "python3"
  },
  "language_info": {
   "codemirror_mode": {
    "name": "ipython",
    "version": 3
   },
   "file_extension": ".py",
   "mimetype": "text/x-python",
   "name": "python",
   "nbconvert_exporter": "python",
   "pygments_lexer": "ipython3",
   "version": "3.10.10"
  },
  "orig_nbformat": 4,
  "vscode": {
   "interpreter": {
    "hash": "6860dbae5879b25c1e05abdd830fdc3771c2b2c4d00895f50bf1fc0c30e14f3f"
   }
  }
 },
 "nbformat": 4,
 "nbformat_minor": 2
}
