{
 "cells": [
  {
   "cell_type": "code",
   "execution_count": 6,
   "metadata": {},
   "outputs": [],
   "source": [
    "a = int(input(\"Input number 'a'\"))\n",
    "b = int(input(\"Input number 'b'\"))"
   ]
  },
  {
   "cell_type": "code",
   "execution_count": 12,
   "metadata": {},
   "outputs": [
    {
     "name": "stdout",
     "output_type": "stream",
     "text": [
      "a = 5 | b = 4\n",
      "(a + b)\t=> 9\n",
      "(a - b)\t=> 1\n",
      "(a * b)\t=> 20\n",
      "(a / b)\t=> 1.25\n",
      "(a % b)\t=> 1\n",
      "log(5)\t=> 1.6094379124341003\n",
      "5^4\t=> 625\n"
     ]
    }
   ],
   "source": [
    "from math import log\n",
    "\n",
    "print(f\"a = {a} | b = {b}\")\n",
    "\n",
    "print(f\"(a + b)\\t=> {a + b}\")\n",
    "print(f\"(a - b)\\t=> {a - b}\")\n",
    "print(f\"(a * b)\\t=> {a * b}\")\n",
    "print(f\"(a / b)\\t=> {a / b}\")\n",
    "print(f\"(a % b)\\t=> {a % b}\")\n",
    "print(f\"log({a})\\t=> {log(a)}\")\n",
    "print(f\"{a}^{b}\\t=> {pow(a, b)}\")"
   ]
  }
 ],
 "metadata": {
  "kernelspec": {
   "display_name": ".venv",
   "language": "python",
   "name": "python3"
  },
  "language_info": {
   "codemirror_mode": {
    "name": "ipython",
    "version": 3
   },
   "file_extension": ".py",
   "mimetype": "text/x-python",
   "name": "python",
   "nbconvert_exporter": "python",
   "pygments_lexer": "ipython3",
   "version": "3.10.10"
  },
  "orig_nbformat": 4,
  "vscode": {
   "interpreter": {
    "hash": "6860dbae5879b25c1e05abdd830fdc3771c2b2c4d00895f50bf1fc0c30e14f3f"
   }
  }
 },
 "nbformat": 4,
 "nbformat_minor": 2
}
